{
 "cells": [
  {
   "cell_type": "code",
   "execution_count": 22,
   "metadata": {},
   "outputs": [],
   "source": [
    "import pandas as pd\n",
    "import dash\n",
    "from dash import dcc, html\n",
    "import plotly.express as px\n",
    "import pandas as pd\n",
    "import dash_bootstrap_components as dbc\n",
    "from dash.dependencies import Input, Output\n",
    "from flask import Flask"
   ]
  },
  {
   "cell_type": "code",
   "execution_count": 23,
   "metadata": {},
   "outputs": [],
   "source": [
    "file_path = 'C:\\\\Users\\\\Saint\\\\Downloads\\\\Brandon D Work\\\\fastfood.csv'\n",
    "fastfood_data = pd.read_csv(file_path)\n"
   ]
  },
  {
   "cell_type": "code",
   "execution_count": 24,
   "metadata": {},
   "outputs": [
    {
     "name": "stdout",
     "output_type": "stream",
     "text": [
      "CSV file successfully loaded into a DataFrame!\n",
      "  restaurant                                       item  calories  cal_fat  \\\n",
      "0  Mcdonalds           Artisan Grilled Chicken Sandwich       380       60   \n",
      "1  Mcdonalds             Single Bacon Smokehouse Burger       840      410   \n",
      "2  Mcdonalds             Double Bacon Smokehouse Burger      1130      600   \n",
      "3  Mcdonalds  Grilled Bacon Smokehouse Chicken Sandwich       750      280   \n",
      "4  Mcdonalds   Crispy Bacon Smokehouse Chicken Sandwich       920      410   \n",
      "\n",
      "   total_fat  sat_fat  trans_fat  cholesterol  sodium  total_carb  fiber  \\\n",
      "0          7      2.0        0.0           95    1110          44    3.0   \n",
      "1         45     17.0        1.5          130    1580          62    2.0   \n",
      "2         67     27.0        3.0          220    1920          63    3.0   \n",
      "3         31     10.0        0.5          155    1940          62    2.0   \n",
      "4         45     12.0        0.5          120    1980          81    4.0   \n",
      "\n",
      "   sugar  protein  vit_a  vit_c  calcium  salad  \n",
      "0     11     37.0    4.0   20.0     20.0  Other  \n",
      "1     18     46.0    6.0   20.0     20.0  Other  \n",
      "2     18     70.0   10.0   20.0     50.0  Other  \n",
      "3     18     55.0    6.0   25.0     20.0  Other  \n",
      "4     18     46.0    6.0   20.0     20.0  Other  \n"
     ]
    }
   ],
   "source": [
    "#make into data frame\n",
    "try:\n",
    "    fastfood_data = pd.read_csv(file_path)\n",
    "    print(\"CSV file successfully loaded into a DataFrame!\")\n",
    "    print(fastfood_data.head())\n",
    "except FileNotFoundError:\n",
    "    print(f\"File not found at {file_path}. Please double-check the file path.\")\n",
    "except Exception as e:\n",
    "    print(f\"An error occurred: {e}\")\n"
   ]
  },
  {
   "cell_type": "code",
   "execution_count": 25,
   "metadata": {},
   "outputs": [
    {
     "name": "stdout",
     "output_type": "stream",
     "text": [
      "Index(['restaurant', 'item', 'calories', 'cal_fat', 'total_fat', 'sat_fat',\n",
      "       'trans_fat', 'cholesterol', 'sodium', 'total_carb', 'fiber', 'sugar',\n",
      "       'protein', 'vit_a', 'vit_c', 'calcium', 'salad'],\n",
      "      dtype='object')\n"
     ]
    }
   ],
   "source": [
    "print(fastfood_data.columns)"
   ]
  },
  {
   "cell_type": "code",
   "execution_count": 26,
   "metadata": {},
   "outputs": [
    {
     "name": "stdout",
     "output_type": "stream",
     "text": [
      "<class 'pandas.core.frame.DataFrame'>\n",
      "Index: 301 entries, 0 to 510\n",
      "Data columns (total 17 columns):\n",
      " #   Column       Non-Null Count  Dtype  \n",
      "---  ------       --------------  -----  \n",
      " 0   restaurant   301 non-null    object \n",
      " 1   item         301 non-null    object \n",
      " 2   calories     301 non-null    int64  \n",
      " 3   cal_fat      301 non-null    int64  \n",
      " 4   total_fat    301 non-null    int64  \n",
      " 5   sat_fat      301 non-null    float64\n",
      " 6   trans_fat    301 non-null    float64\n",
      " 7   cholesterol  301 non-null    int64  \n",
      " 8   sodium       301 non-null    int64  \n",
      " 9   total_carb   301 non-null    int64  \n",
      " 10  fiber        301 non-null    float64\n",
      " 11  sugar        301 non-null    int64  \n",
      " 12  protein      301 non-null    float64\n",
      " 13  vit_a        301 non-null    float64\n",
      " 14  vit_c        301 non-null    float64\n",
      " 15  calcium      301 non-null    float64\n",
      " 16  salad        301 non-null    object \n",
      "dtypes: float64(7), int64(7), object(3)\n",
      "memory usage: 42.3+ KB\n",
      "None\n",
      "  restaurant                                       item  calories  cal_fat  \\\n",
      "0  Mcdonalds           Artisan Grilled Chicken Sandwich       380       60   \n",
      "1  Mcdonalds             Single Bacon Smokehouse Burger       840      410   \n",
      "2  Mcdonalds             Double Bacon Smokehouse Burger      1130      600   \n",
      "3  Mcdonalds  Grilled Bacon Smokehouse Chicken Sandwich       750      280   \n",
      "4  Mcdonalds   Crispy Bacon Smokehouse Chicken Sandwich       920      410   \n",
      "\n",
      "   total_fat  sat_fat  trans_fat  cholesterol  sodium  total_carb  fiber  \\\n",
      "0          7      2.0        0.0           95    1110          44    3.0   \n",
      "1         45     17.0        1.5          130    1580          62    2.0   \n",
      "2         67     27.0        3.0          220    1920          63    3.0   \n",
      "3         31     10.0        0.5          155    1940          62    2.0   \n",
      "4         45     12.0        0.5          120    1980          81    4.0   \n",
      "\n",
      "   sugar  protein  vit_a  vit_c  calcium  salad  \n",
      "0     11     37.0    4.0   20.0     20.0  Other  \n",
      "1     18     46.0    6.0   20.0     20.0  Other  \n",
      "2     18     70.0   10.0   20.0     50.0  Other  \n",
      "3     18     55.0    6.0   25.0     20.0  Other  \n",
      "4     18     46.0    6.0   20.0     20.0  Other  \n"
     ]
    }
   ],
   "source": [
    "#clean data\n",
    "fastfood_data = fastfood_data.dropna()\n",
    "fastfood_data = fastfood_data.drop_duplicates()\n",
    "fastfood_data.to_csv('cleaned_data.csv', index=False)\n",
    "print(fastfood_data.info())  \n",
    "print(fastfood_data.head())"
   ]
  },
  {
   "cell_type": "code",
   "execution_count": 27,
   "metadata": {},
   "outputs": [
    {
     "name": "stdout",
     "output_type": "stream",
     "text": [
      "Restaurant with the highest average calories: Mcdonalds (640.35)\n"
     ]
    }
   ],
   "source": [
    "#analyze data \n",
    "#resturaunts with highest calories \n",
    "restaurant_averages = fastfood_data.groupby('restaurant')[['calories', 'cal_fat']].mean()\n",
    "\n",
    "highest_avg_calories = restaurant_averages['calories'].idxmax()\n",
    "highest_avg_calories_value = restaurant_averages['calories'].max()\n",
    "print(f\"Restaurant with the highest average calories: {highest_avg_calories} ({highest_avg_calories_value:.2f})\")"
   ]
  },
  {
   "cell_type": "code",
   "execution_count": 28,
   "metadata": {},
   "outputs": [
    {
     "name": "stdout",
     "output_type": "stream",
     "text": [
      "Restaurant with the highest average calories from fat: Sonic (329.18)\n"
     ]
    }
   ],
   "source": [
    "#restaurants with highest fat calories\n",
    "highest_avg_cal_fat = restaurant_averages['cal_fat'].idxmax()\n",
    "highest_avg_cal_fat_value = restaurant_averages['cal_fat'].max()\n",
    "print(f\"Restaurant with the highest average calories from fat: {highest_avg_cal_fat} ({highest_avg_cal_fat_value:.2f})\")"
   ]
  },
  {
   "cell_type": "code",
   "execution_count": 29,
   "metadata": {},
   "outputs": [
    {
     "name": "stdout",
     "output_type": "stream",
     "text": [
      "Restaurant with the highest average fiber: Subway (6.56)\n"
     ]
    }
   ],
   "source": [
    "#restaurant with most fiber\n",
    "restaurant_averages = fastfood_data.groupby('restaurant')[['fiber', 'calcium']].mean()\n",
    "highest_avg_fiber = restaurant_averages['fiber'].idxmax()\n",
    "highest_avg_fiber_value = restaurant_averages['fiber'].max()\n",
    "print(f\"Restaurant with the highest average fiber: {highest_avg_fiber} ({highest_avg_fiber_value:.2f})\")"
   ]
  },
  {
   "cell_type": "code",
   "execution_count": 30,
   "metadata": {},
   "outputs": [
    {
     "name": "stdout",
     "output_type": "stream",
     "text": [
      "Restaurant with the highest average calcium: Subway (39.12)\n"
     ]
    }
   ],
   "source": [
    "#resturaunt with most calcium\n",
    "highest_avg_calcium = restaurant_averages['calcium'].idxmax()\n",
    "highest_avg_calcium_value = restaurant_averages['calcium'].max()\n",
    "print(f\"Restaurant with the highest average calcium: {highest_avg_calcium} ({highest_avg_calcium_value:.2f})\")"
   ]
  },
  {
   "cell_type": "code",
   "execution_count": 101,
   "metadata": {},
   "outputs": [],
   "source": [
    "#creating dash item\n",
    "app = dash.Dash(__name__, external_stylesheets=[dbc.themes.BOOTSTRAP])\n",
    "\n",
    "df = pd.read_csv('C:\\\\Users\\\\Saint\\\\Downloads\\\\Brandon D Work\\\\cleaned_data.csv')"
   ]
  },
  {
   "cell_type": "code",
   "execution_count": 102,
   "metadata": {},
   "outputs": [
    {
     "data": {
      "text/html": [
       "\n",
       "        <iframe\n",
       "            width=\"100%\"\n",
       "            height=\"650\"\n",
       "            src=\"http://127.0.0.1:8050/\"\n",
       "            frameborder=\"0\"\n",
       "            allowfullscreen\n",
       "            \n",
       "        ></iframe>\n",
       "        "
      ],
      "text/plain": [
       "<IPython.lib.display.IFrame at 0x17ffc0b2030>"
      ]
     },
     "metadata": {},
     "output_type": "display_data"
    }
   ],
   "source": [
    "app.layout = html.Div([\n",
    "    html.H1(\"Fast Food Nutrition Dashboard\", style={'text-align': 'center'}),\n",
    "\n",
    "    # Infographic Section: Highest and Lowest Calories, Sodium, and Fat Items\n",
    "    html.Div(\n",
    "        style={\n",
    "            'display': 'flex',\n",
    "            'justify-content': 'space-around',\n",
    "            'margin-bottom': '40px',\n",
    "            'background-image': 'url(/assets/chicken.jpg)',  \n",
    "            'background-size': 'cover',\n",
    "            'background-position': 'center',\n",
    "            'background-attachment': 'fixed',\n",
    "            'filter': 'brightness(100%)',\n",
    "            'padding': '20px'\n",
    "        },\n",
    "        children=[  \n",
    "            # Highest Calorie Item Card\n",
    "            html.Div(\n",
    "                className='card',\n",
    "                children=[\n",
    "                    html.Div(className='card-header', children=\"Highest Calories Item\"),\n",
    "                    html.Div(className='card-body', children=[\n",
    "                        html.H5(id='highest-calories-item', className='card-title'),\n",
    "                        html.P(id='highest-calories-value', className='card-text'),\n",
    "                    ])\n",
    "                ], style={'width': '30%', 'background-color': '#f7d4d4'}\n",
    "            ),\n",
    "            # Highest Sodium Item Card\n",
    "            html.Div(\n",
    "                className='card',\n",
    "                children=[\n",
    "                    html.Div(className='card-header', children=\"Highest Sodium Item\"),\n",
    "                    html.Div(className='card-body', children=[\n",
    "                        html.H5(id='highest-sodium-item', className='card-title'),\n",
    "                        html.P(id='highest-sodium-value', className='card-text'),\n",
    "                    ])\n",
    "                ], style={'width': '30%', 'background-color': '#f7d4d4'}\n",
    "            ),\n",
    "            # Highest Average Calories\n",
    "            html.Div(\n",
    "                className='card',\n",
    "                children=[\n",
    "                    html.Div(className='card-header', children=\"Restaurant with Highest Average Calories\"),\n",
    "                    html.Div(className='card-body', children=[\n",
    "                        html.H5(id='highest-average-calories-restaurant', className='card-title'),\n",
    "                        html.P(id='highest-average-calories-value', className='card-text'),\n",
    "                    ])\n",
    "                ], style={'width': '30%', 'background-color': '#f9e79f'}\n",
    "            ),\n",
    "        ]\n",
    "    ),\n",
    "\n",
    "    # Infographic Section: Lowest Calories, Sodium, and Average Calories\n",
    "    html.Div(\n",
    "        style={\n",
    "            'display': 'flex',\n",
    "            'justify-content': 'space-around',\n",
    "            'margin-bottom': '40px',\n",
    "            'background-image': 'url(/assets/salad.jpg)',  \n",
    "            'background-size': 'cover',\n",
    "            'background-position': 'center',\n",
    "            'background-attachment': 'fixed',\n",
    "            'filter': 'brightness(100%)',\n",
    "            'padding': '20px'\n",
    "        },\n",
    "        children=[\n",
    "            # Lowest Calorie Item Card\n",
    "            html.Div(\n",
    "                className='card',\n",
    "                children=[\n",
    "                    html.Div(className='card-header', children=\"Lowest Calories Item\"),\n",
    "                    html.Div(className='card-body', children=[\n",
    "                        html.H5(id='lowest-calories-item', className='card-title'),\n",
    "                        html.P(id='lowest-calories-value', className='card-text'),\n",
    "                    ])\n",
    "                ], style={'width': '30%', 'background-color': '#d4f7d4'}\n",
    "            ),\n",
    "            # Lowest Sodium Item Card\n",
    "            html.Div(\n",
    "                className='card',\n",
    "                children=[\n",
    "                    html.Div(className='card-header', children=\"Lowest Sodium Item\"),\n",
    "                    html.Div(className='card-body', children=[\n",
    "                        html.H5(id='lowest-sodium-item', className='card-title'),\n",
    "                        html.P(id='lowest-sodium-value', className='card-text'),\n",
    "                    ])\n",
    "                ], style={'width': '30%', 'background-color': '#d4f7d4'}\n",
    "            ),\n",
    "            # **Average Calories Card \n",
    "            html.Div(\n",
    "                className='card',\n",
    "                children=[\n",
    "                    html.Div(className='card-header', children=\"Average Calories of All Items\"),\n",
    "                    html.Div(className='card-body', children=[\n",
    "                        html.H5(id='average-calories-value', className='card-title')\n",
    "                    ])\n",
    "                ], style={'width': '30%', 'background-color': '#f9e79f'}  \n",
    "            ),\n",
    "        ]\n",
    "    ),\n",
    "\n",
    "    # Dashboard dropdown\n",
    "    dcc.Dropdown(\n",
    "        id='food-dropdown',\n",
    "        options=[{'label': f\"{item} - {restaurant}\", 'value': item} for item, restaurant in zip(df['item'], df['restaurant'])],\n",
    "        value=df['item'].unique()[0],  \n",
    "        style={\n",
    "            'width': '50%',\n",
    "            'margin': 'auto',\n",
    "            'backgroundColor': '#f7f7f7',\n",
    "            'color': '#333',\n",
    "            'font-size': '18px',\n",
    "            'border': '2px solid #ccc',\n",
    "            'border-radius': '5px'\n",
    "        }\n",
    "    ),\n",
    "\n",
    "    # Graph\n",
    "    dcc.Graph(id='nutrition-graph'),\n",
    "\n",
    "    # Static wide image below the graph\n",
    "    html.Div(\n",
    "        children=[\n",
    "            html.Img(\n",
    "                src=\"/assets/brands.jpg\",  \n",
    "                style={\n",
    "                    'width': '50%', \n",
    "                    'height': 'auto', \n",
    "                    'border-radius': '10px', \n",
    "                    'margin-top': '20px',\n",
    "                    'float': 'right',\n",
    "                    \n",
    "                }\n",
    "            )\n",
    "        ]\n",
    "    ),\n",
    "\n",
    "    # Table for data\n",
    "    html.Div(id='nutrition-table', style={'padding': '20px'})\n",
    "])\n",
    "\n",
    "# Callback to update the dashboard\n",
    "@app.callback(\n",
    "    [Output('nutrition-graph', 'figure'),\n",
    "     Output('nutrition-table', 'children'),\n",
    "     Output('highest-calories-item', 'children'),\n",
    "     Output('highest-calories-value', 'children'),\n",
    "     Output('highest-sodium-item', 'children'),\n",
    "     Output('highest-sodium-value', 'children'),\n",
    "     Output('highest-average-calories-restaurant', 'children'),\n",
    "     Output('highest-average-calories-value', 'children'),  # Corrected line\n",
    "     Output('lowest-calories-item', 'children'),\n",
    "     Output('lowest-calories-value', 'children'),\n",
    "     Output('lowest-sodium-item', 'children'),\n",
    "     Output('lowest-sodium-value', 'children'),\n",
    "     Output('average-calories-value', 'children')],\n",
    "    [Input('food-dropdown', 'value')]\n",
    ")\n",
    "def update_dashboard(selected_food):\n",
    "    # Filter the dataset for the selected food item\n",
    "    selected_data = df[df['item'] == selected_food].iloc[0]\n",
    "    nutrition_columns = [\n",
    "        'calories', 'cal_fat', 'total_fat', 'sat_fat', 'trans_fat', 'cholesterol',\n",
    "        'sodium', 'total_carb', 'fiber', 'sugar', 'protein', 'calcium'\n",
    "    ]\n",
    "    color_palette = px.colors.qualitative.Set3\n",
    "    selected_data = selected_data.drop(['restaurant', 'salad'], errors='ignore')\n",
    "\n",
    "    # Create a bar chart with nutrition data\n",
    "    nutrition_data = selected_data.drop('item')  \n",
    "    fig = px.bar(\n",
    "        nutrition_data,\n",
    "        x=nutrition_data.index,\n",
    "        y=nutrition_data.values,\n",
    "        labels={'x': 'Nutrient', 'y': 'Amount'},\n",
    "        title=f\"Nutritional Values of {selected_food}\",\n",
    "        color=nutrition_data.index,\n",
    "        color_discrete_map={nutrient: color_palette[i % len(color_palette)] for i, nutrient in enumerate(nutrition_data.index)},\n",
    "        template=\"plotly_dark\"\n",
    "    )\n",
    "\n",
    "    # Create a table displaying the nutrition details\n",
    "    table = html.Table(\n",
    "    [\n",
    "        html.Tr([html.Th('Nutrient', style={'background-color': '#f9e79f', 'padding': '10px'}), \n",
    "                 html.Th('Value', style={'background-color': '#f9e79f', 'padding': '10px'})])\n",
    "    ] + [\n",
    "        html.Tr([html.Td(nutrient, style={'background-color': '#f0f8ff', 'padding': '8px'}),\n",
    "                 html.Td(value, style={'background-color': '#f0f8ff', 'padding': '8px'})])\n",
    "        for nutrient, value in zip(nutrition_data.index, nutrition_data.values)\n",
    "    ],\n",
    "    style={'width': '50%', 'border-collapse': 'collapse', 'margin-top': '20px'}\n",
    ")               \n",
    "\n",
    "    # Get the highest calorie, sodium, and fat items\n",
    "    highest_calories = df.loc[df['calories'].idxmax()]\n",
    "    highest_sodium = df.loc[df['sodium'].idxmax()]\n",
    "    avg_calories_per_restaurant = df.groupby('restaurant')['calories'].mean()\n",
    "    highest_avg_calories_restaurant = avg_calories_per_restaurant.idxmax()\n",
    "    highest_avg_calories_value = avg_calories_per_restaurant.max()\n",
    "\n",
    "    # Get the lowest calorie and sodium items\n",
    "    lowest_calories = df.loc[df['calories'].idxmin()]\n",
    "    lowest_sodium = df.loc[df['sodium'].idxmin()]\n",
    "\n",
    "    # Calculate the average calories\n",
    "    avg_calories = df['calories'].mean()\n",
    "    avg_calories_text = f\"{avg_calories:.2f} kcal\"\n",
    "\n",
    "    # Return the updated graph, table, and infographic data\n",
    "    return (\n",
    "        fig, table,\n",
    "        highest_calories['item'], f\"{highest_calories['calories']} kcal\",\n",
    "        highest_sodium['item'], f\"{highest_sodium['sodium']} mg\",\n",
    "        highest_avg_calories_restaurant, f\"{highest_avg_calories_value:.2f} kcal\",  \n",
    "        lowest_calories['item'], f\"{lowest_calories['calories']} kcal\",\n",
    "        lowest_sodium['item'], f\"{lowest_sodium['sodium']} mg\",\n",
    "        avg_calories_text  \n",
    "    )\n",
    "    \n",
    "\n",
    "# Run the Flask server with Dash\n",
    "if __name__ == '__main__':\n",
    "    app.run_server(debug=True)"
   ]
  }
 ],
 "metadata": {
  "kernelspec": {
   "display_name": "base",
   "language": "python",
   "name": "python3"
  },
  "language_info": {
   "codemirror_mode": {
    "name": "ipython",
    "version": 3
   },
   "file_extension": ".py",
   "mimetype": "text/x-python",
   "name": "python",
   "nbconvert_exporter": "python",
   "pygments_lexer": "ipython3",
   "version": "3.12.4"
  }
 },
 "nbformat": 4,
 "nbformat_minor": 2
}
